{
 "cells": [
  {
   "cell_type": "code",
   "execution_count": 4,
   "metadata": {
    "collapsed": true
   },
   "outputs": [],
   "source": [
    "import pymc as pm\n",
    "\n",
    "lambda_ = pm.Exponential(\"poisson_param\", 1)\n",
    "\n",
    "data_generator = pm.Poisson(\"data_generator\", lambda_)\n",
    "data_plus_one = data_generator + 1\n"
   ]
  },
  {
   "cell_type": "code",
   "execution_count": 5,
   "metadata": {},
   "outputs": [
    {
     "name": "stdout",
     "output_type": "stream",
     "text": [
      "lambda_ の　子 は？\n",
      "{<pymc.distributions.new_dist_class.<locals>.new_class 'data_generator' at 0x1a160c1a20>}\n",
      "data_generator の　親は？\n",
      "{'mu': <pymc.distributions.new_dist_class.<locals>.new_class 'poisson_param' at 0x1a160c19b0>}\n",
      "data_generator の 子は？\n",
      "{<pymc.PyMCObjects.Deterministic '(data_generator_add_1)' at 0x1a160c1b00>}\n"
     ]
    }
   ],
   "source": [
    "print(\"lambda_ の　子 は？\")\n",
    "print(lambda_.children)\n",
    "\n",
    "print(\"data_generator の　親は？\")\n",
    "print(data_generator.parents)\n",
    "\n",
    "print(\"data_generator の 子は？\")\n",
    "print(data_generator.children)"
   ]
  },
  {
   "cell_type": "code",
   "execution_count": 6,
   "metadata": {},
   "outputs": [
    {
     "name": "stdout",
     "output_type": "stream",
     "text": [
      "lambda_.value =  0.46210480067845916\n",
      "data_generator.value =  0\n",
      "data_plus_one =  1\n"
     ]
    }
   ],
   "source": [
    "print(\"lambda_.value = \", lambda_.value) # λ=1の指数分布がその確率にもとづいて確率変数が出力される\n",
    "print(\"data_generator.value = \", data_generator.value)\n",
    "print(\"data_plus_one = \", data_plus_one.value)"
   ]
  },
  {
   "cell_type": "code",
   "execution_count": 7,
   "metadata": {
    "collapsed": true
   },
   "outputs": [],
   "source": [
    "discrete_uni_var = pm.DiscreteUniform(\"discrete_uni_var\", 0, 4)\n",
    "discrete_uni_var??"
   ]
  },
  {
   "cell_type": "code",
   "execution_count": 8,
   "metadata": {
    "collapsed": true
   },
   "outputs": [],
   "source": [
    "# よくない\n",
    "beta_1 = pm.Uniform(\"beta_1\",0,1)\n",
    "beta_2 = pm.Uniform(\"beta_2\",0,1)\n",
    "\n",
    "#こっちのほうが良い\n",
    "N=10\n",
    "betas = pm.Uniform(\"betas\", 0, 1, size=N)\n"
   ]
  },
  {
   "cell_type": "code",
   "execution_count": 9,
   "metadata": {},
   "outputs": [
    {
     "name": "stdout",
     "output_type": "stream",
     "text": [
      "Initialized values... \n",
      "lambda_1.value =  1.2448390442172663\n",
      "lambda_2.value =  0.9808892716246194\n",
      "tau.value =  9\n",
      "\n",
      "After calling random() on the variables ... \n",
      "lambda_1.value =  1.391181633896185\n",
      "lambda_2.value =  0.0815455505851446\n",
      "tau.value =  3\n"
     ]
    }
   ],
   "source": [
    "# stochastic 変数のrandom()によって親変数の変更に依存した新しいランダムな値が返される\n",
    "\n",
    "lambda_1=pm.Exponential(\"lambda_1\", 1) #  後半の事前分布\n",
    "lambda_2=pm.Exponential(\"lambda_2\", 1) #  後半の事前分布\n",
    "tau = pm.DiscreteUniform(\"tau\", lower=0, upper=10) # 変化点の事前分布\n",
    "\n",
    "print(\"Initialized values... \")\n",
    "print(\"lambda_1.value = \", lambda_1.value)\n",
    "print(\"lambda_2.value = \", lambda_2.value)\n",
    "print('tau.value = ', tau.value)\n",
    "\n",
    "lambda_1.random()\n",
    "lambda_2.random()\n",
    "tau.random()\n",
    "\n",
    "print()\n",
    "print(\"After calling random() on the variables ... \")\n",
    "print(\"lambda_1.value = \", lambda_1.value)\n",
    "print(\"lambda_2.value = \", lambda_2.value)\n",
    "print('tau.value = ', tau.value)"
   ]
  },
  {
   "cell_type": "code",
   "execution_count": 10,
   "metadata": {
    "collapsed": true
   },
   "outputs": [],
   "source": [
    "@pm.deterministic\n",
    "def some_deterministic(stoch=discrete_uni_var):\n",
    "    #return stoch.value**2 は 間違い\n",
    "    return stoch**2"
   ]
  },
  {
   "cell_type": "code",
   "execution_count": 11,
   "metadata": {},
   "outputs": [
    {
     "data": {
      "text/plain": [
       "(0, 8)"
      ]
     },
     "execution_count": 11,
     "metadata": {},
     "output_type": "execute_result"
    },
    {
     "data": {
      "image/png": "[encoded data removed]",
      "text/plain": [
       "<matplotlib.figure.Figure at 0x10aaeedd8>"
      ]
     },
     "metadata": {},
     "output_type": "display_data"
    }
   ],
   "source": [
    "from IPython.core.pylabtools import figsize\n",
    "from matplotlib import pyplot as plt\n",
    "%matplotlib inline \n",
    "import numpy as np\n",
    "figsize(12.5 ,4 )\n",
    "samples=[lambda_1.random() for i in range(20000)]\n",
    "plt.hist(samples, bins=70, normed=True, histtype=\"stepfilled\")\n",
    "\n",
    "plt.title(\"Prior distribution for $\\lambda_1$\")\n",
    "plt.xlabel(\"Value\")\n",
    "plt.ylabel(\"Density\")\n",
    "plt.xlim(0 ,8)"
   ]
  },
  {
   "cell_type": "code",
   "execution_count": 11,
   "metadata": {},
   "outputs": [
    {
     "name": "stdout",
     "output_type": "stream",
     "text": [
      "value:  [10  5]\n",
      "calling .random()\n",
      "value:  [10  5]\n"
     ]
    }
   ],
   "source": [
    "data = np.array([10,5])\n",
    "fixed_variable = pm.Poisson(\"fvd\", value=data, observed=True)\n",
    "print(\"value: \", fixed_variable.value)\n",
    "print(\"calling .random()\")\n",
    "\n",
    "fixed_variable.random()\n",
    "print(\"value: \", fixed_variable.value)"
   ]
  },
  {
   "cell_type": "code",
   "execution_count": 12,
   "metadata": {},
   "outputs": [
    {
     "name": "stdout",
     "output_type": "stream",
     "text": [
      "50\n"
     ]
    }
   ],
   "source": [
    "tau = pm.rdiscrete_uniform(0, 80)\n",
    "print(tau)"
   ]
  },
  {
   "cell_type": "code",
   "execution_count": 13,
   "metadata": {},
   "outputs": [
    {
     "name": "stdout",
     "output_type": "stream",
     "text": [
      "25.0358108255 6.59280176682\n"
     ]
    }
   ],
   "source": [
    "alpha=1. /20.\n",
    "lambda_1, lambda_2 =pm.rexponential(alpha, 2)\n",
    "print(lambda_1, lambda_2)\n"
   ]
  },
  {
   "cell_type": "code",
   "execution_count": 14,
   "metadata": {},
   "outputs": [
    {
     "name": "stdout",
     "output_type": "stream",
     "text": [
      "[ 25.03581083  25.03581083  25.03581083  25.03581083  25.03581083\n",
      "  25.03581083  25.03581083  25.03581083  25.03581083  25.03581083\n",
      "  25.03581083  25.03581083  25.03581083  25.03581083  25.03581083\n",
      "  25.03581083  25.03581083  25.03581083  25.03581083  25.03581083\n",
      "  25.03581083  25.03581083  25.03581083  25.03581083  25.03581083\n",
      "  25.03581083  25.03581083  25.03581083  25.03581083  25.03581083\n",
      "  25.03581083  25.03581083  25.03581083  25.03581083  25.03581083\n",
      "  25.03581083  25.03581083  25.03581083  25.03581083  25.03581083\n",
      "  25.03581083  25.03581083  25.03581083  25.03581083  25.03581083\n",
      "  25.03581083  25.03581083  25.03581083  25.03581083  25.03581083\n",
      "   6.59280177   6.59280177   6.59280177   6.59280177   6.59280177\n",
      "   6.59280177   6.59280177   6.59280177   6.59280177   6.59280177\n",
      "   6.59280177   6.59280177   6.59280177   6.59280177   6.59280177\n",
      "   6.59280177   6.59280177   6.59280177   6.59280177   6.59280177\n",
      "   6.59280177   6.59280177   6.59280177   6.59280177   6.59280177\n",
      "   6.59280177   6.59280177   6.59280177   6.59280177   6.59280177]\n"
     ]
    }
   ],
   "source": [
    "lambda_ = np.r_[lambda_1 * np.ones(tau) , lambda_2 * np.ones(80-tau)]\n",
    "print(lambda_)"
   ]
  },
  {
   "cell_type": "code",
   "execution_count": 15,
   "metadata": {},
   "outputs": [
    {
     "name": "stdout",
     "output_type": "stream",
     "text": [
      "[34 33 28 25 18 23 32 26 23 20 28 22 24 25 26 17 21 29 23 19 30 25 17 25 30\n",
      " 19 27 26 30 33 23 26 25 28 28 28 21 36 31 30 36 25 17 15 27 25 34 32 23 19\n",
      "  5  6  5  6  3  5  5  9  9 10 10  8  8  6  8 10  4 10  9  6  8  7  9  4  4\n",
      "  5  4  6  3 12]\n"
     ]
    }
   ],
   "source": [
    "data = pm.rpoisson(lambda_ )\n",
    "print(data)"
   ]
  },
  {
   "cell_type": "code",
   "execution_count": 16,
   "metadata": {},
   "outputs": [
    {
     "data": {
      "text/plain": [
       "<matplotlib.legend.Legend at 0x1a14e00ac8>"
      ]
     },
     "execution_count": 16,
     "metadata": {},
     "output_type": "execute_result"
    },
    {
     "data": {
      "image/png": "[encoded data removed]",
      "text/plain": [
       "<matplotlib.figure.Figure at 0x1a11553a20>"
      ]
     },
     "metadata": {},
     "output_type": "display_data"
    }
   ],
   "source": [
    "plt.bar(np.arange(80), data, color=\"#348ABD\")\n",
    "plt.bar(tau-1, data[tau-1], color=\"r\", label=\"user behavior changed\")\n",
    "\n",
    "plt.xlabel(\"Time (days)\")\n",
    "plt.ylabel(\"Text messages received \")\n",
    "plt.title(\"Artificial dataset from simulating the model\")\n",
    "plt.xlim(0, 80)\n",
    "plt.legend()"
   ]
  },
  {
   "cell_type": "code",
   "execution_count": 17,
   "metadata": {},
   "outputs": [
    {
     "data": {
      "text/plain": [
       "Text(0.5,0.98,'More examples of a d ')"
      ]
     },
     "execution_count": 17,
     "metadata": {},
     "output_type": "execute_result"
    },
    {
     "data": {
      "text/plain": [
       "<matplotlib.figure.Figure at 0x1a1506a2b0>"
      ]
     },
     "metadata": {},
     "output_type": "display_data"
    }
   ],
   "source": [
    "def plot_artificial_sms_dataset():\n",
    "    tau = pm.rdiscrete_uniform(0, 80)\n",
    "    alpha = 1. / 20.\n",
    "    lambda_1, lambda_2 = pm.rexponential(alpha, 2)\n",
    "    data = np.r_[pm.rpoisson(lambda_1, tau), pm.rpoisson(lambda_2, 80-tau)]\n",
    "    plt.bar(np.arange(80), data, color=\"#348ABD\")\n",
    "    plt.bar(tau-1, data[tau-1], color=\"r\", label=\"user behavior changed\")\n",
    "    plt.xlim(0, 80)\n",
    "    plt.legend()\n",
    "\n",
    "figsize(12.5, 20)\n",
    "plt.suptitle(\"More examples of a d \")"
   ]
  },
  {
   "cell_type": "code",
   "execution_count": 18,
   "metadata": {},
   "outputs": [
    {
     "data": {
      "image/png": "[encoded data removed]",
      "text/plain": [
       "<matplotlib.figure.Figure at 0x1a11550b70>"
      ]
     },
     "metadata": {},
     "output_type": "display_data"
    }
   ],
   "source": [
    "for i in range(4):\n",
    "    plt.subplot(4, 1, i + 1)\n",
    "    plt.xlabel(\"Time (days)\")\n",
    "    plot_artificial_sms_dataset()"
   ]
  },
  {
   "cell_type": "code",
   "execution_count": 19,
   "metadata": {
    "collapsed": true
   },
   "outputs": [],
   "source": [
    "import pymc as pm\n",
    "p = pm.Uniform('p', lower=0, upper=1)\n"
   ]
  },
  {
   "cell_type": "code",
   "execution_count": 20,
   "metadata": {},
   "outputs": [
    {
     "name": "stdout",
     "output_type": "stream",
     "text": [
      "[False False False ..., False False False]\n",
      "84\n"
     ]
    }
   ],
   "source": [
    "# 定数をセット\n",
    "p_true=0.05 # 本当ならこの値はわからない\n",
    "N=1500\n",
    "\n",
    "# Ber(0.05) から Nこの値をサンプリングする\n",
    "occurences = pm.rbernoulli(p_true, N)\n",
    "\n",
    "print(occurences)\n",
    "print(occurences.sum())"
   ]
  },
  {
   "cell_type": "code",
   "execution_count": 21,
   "metadata": {},
   "outputs": [
    {
     "name": "stdout",
     "output_type": "stream",
     "text": [
      "サイトAの観測頻度 0.056\n",
      "観測頻度が真の頻度と一致したか?  False\n"
     ]
    }
   ],
   "source": [
    "print('サイトAの観測頻度', occurences.mean())\n",
    "print('観測頻度が真の頻度と一致したか? ', occurences.mean()==p_true)"
   ]
  },
  {
   "cell_type": "code",
   "execution_count": 22,
   "metadata": {},
   "outputs": [
    {
     "name": "stdout",
     "output_type": "stream",
     "text": [
      " [-----------------100%-----------------] 20000 of 20000 complete in 1.0 sec"
     ]
    }
   ],
   "source": [
    "obs = pm.Bernoulli(\"obs\", p, value=occurences, observed=True)\n",
    "\n",
    "mcmc=pm.MCMC([p, obs])\n",
    "mcmc.sample(20000, 1000)"
   ]
  },
  {
   "cell_type": "code",
   "execution_count": 23,
   "metadata": {},
   "outputs": [
    {
     "data": {
      "text/plain": [
       "<matplotlib.legend.Legend at 0x1a15e0f630>"
      ]
     },
     "execution_count": 23,
     "metadata": {},
     "output_type": "execute_result"
    },
    {
     "data": {
      "image/png": "[encoded data removed]",
      "text/plain": [
       "<matplotlib.figure.Figure at 0x1a15177b00>"
      ]
     },
     "metadata": {},
     "output_type": "display_data"
    }
   ],
   "source": [
    "figsize(12.5, 4)\n",
    "\n",
    "plt.vlines(p_true, 0, 90, linestyle=\"--\",\n",
    "          label=\"true $p_A$ (unknown)\")\n",
    "plt.hist(mcmc.trace(\"p\")[:],\n",
    "        bins=35, histtype=\"stepfilled\", normed=True)\n",
    "\n",
    "plt.title(\"Posterior distribution of $p_A$\")\n",
    "plt.xlabel(\"Value of $p_A$\")\n",
    "plt.ylabel(\"Density\")\n",
    "plt.legend()"
   ]
  },
  {
   "cell_type": "code",
   "execution_count": 24,
   "metadata": {},
   "outputs": [
    {
     "name": "stdout",
     "output_type": "stream",
     "text": [
      "Obs from Site A:  [0 0 0 0 0 0 0 0 0 0 0 0 0 0 0 0 0 0 0 0 0 0 0 0 0 0 1 0 0 0] ....\n",
      "Obs from Site B:  [0 0 0 0 0 0 0 0 0 0 0 0 0 0 0 0 0 0 0 0 0 0 0 0 0 0 0 0 0 0] ....\n"
     ]
    }
   ],
   "source": [
    "import pymc as pm\n",
    "figsize(12, 4)\n",
    "# 以下２つは本来は分からない\n",
    "true_p_A = 0.05\n",
    "true_p_B = 0.04\n",
    "\n",
    "N_A = 1500\n",
    "N_B = 750\n",
    "\n",
    "observation_A = pm.rbernoulli(true_p_A, N_A)\n",
    "observation_B = pm.rbernoulli(true_p_B, N_B)\n",
    "\n",
    "print(\"Obs from Site A: \", observation_A[:30].astype(int), \"....\")\n",
    "print(\"Obs from Site B: \", observation_B[:30].astype(int), \"....\")"
   ]
  },
  {
   "cell_type": "code",
   "execution_count": 25,
   "metadata": {},
   "outputs": [
    {
     "name": "stdout",
     "output_type": "stream",
     "text": [
      "0.0533333333333\n",
      "0.0333333333333\n"
     ]
    }
   ],
   "source": [
    "print(observation_A.mean())\n",
    "print(observation_B.mean())"
   ]
  },
  {
   "cell_type": "code",
   "execution_count": 26,
   "metadata": {},
   "outputs": [
    {
     "name": "stdout",
     "output_type": "stream",
     "text": [
      " [-----------------100%-----------------] 25000 of 25000 complete in 2.2 sec"
     ]
    }
   ],
   "source": [
    "# PyMC モデルの設定\n",
    "# p_A と p_B の事前分布は一様分布と仮定する\n",
    "p_A = pm.Uniform(\"p_A\", 0, 1)\n",
    "p_B = pm.Uniform(\"p_B\", 0, 1)\n",
    "\n",
    "@pm.deterministic\n",
    "def delta(p_A = p_A, p_B=p_B):\n",
    "    return p_A - p_B\n",
    "\n",
    "# 観測データの設定\n",
    "obs_A = pm.Bernoulli(\"obs_A\", p_A, value=observation_A, observed=True)\n",
    "obs_B = pm.Bernoulli(\"obs_B\", p_B, value=observation_B, observed=True)\n",
    "\n",
    "mcmc=pm.MCMC([p_A, p_B, delta, obs_A, obs_B])\n",
    "mcmc.sample(25000, 5000)\n"
   ]
  },
  {
   "cell_type": "code",
   "execution_count": 27,
   "metadata": {},
   "outputs": [
    {
     "data": {
      "text/plain": [
       "<matplotlib.legend.Legend at 0x1a16198e10>"
      ]
     },
     "execution_count": 27,
     "metadata": {},
     "output_type": "execute_result"
    },
    {
     "data": {
      "image/png": "[encoded data removed]",
      "text/plain": [
       "<matplotlib.figure.Figure at 0x1a15e810f0>"
      ]
     },
     "metadata": {},
     "output_type": "display_data"
    }
   ],
   "source": [
    "p_A_samples = mcmc.trace(\"p_A\")[:]\n",
    "p_B_samples = mcmc.trace(\"p_B\")[:]\n",
    "delta_samples = mcmc.trace(\"delta\")[:]\n",
    "\n",
    "figsize(12.5, 10)\n",
    "\n",
    "# 事後確率分布\n",
    "\n",
    "ax = plt.subplot(311)\n",
    "plt.hist(p_A_samples, histtype='stepfilled', bins=30, alpha=0.85, label=\"posterior of $p_A$\", \n",
    "        color=\"#A60628\", normed=True)\n",
    "plt.vlines(true_p_A, 0, 80, linestyle='--',\n",
    "          label='true $p_A$ (unknown)') # 真のp_A(未知数)\n",
    "plt.legend(loc=\"upper right\")\n",
    "plt.xlim(0, .1)\n",
    "plt.ylim(0, 80)\n",
    "plt.suptitle(\"Posterior distribution of $p_A$, $p_B$, and delta unknowns\")\n",
    "\n",
    "ax = plt.subplot(312)\n",
    "plt.hist(p_B_samples, histtype='stepfilled', bins=30, alpha=0.85, label=\"posterior of $p_B$\", \n",
    "        color=\"#A60628\", normed=True)\n",
    "plt.vlines(true_p_B, 0, 80, linestyle='--',\n",
    "          label='true $p_B$ (unknown)') # 真のp_B(未知数)\n",
    "plt.legend(loc=\"upper right\")\n",
    "plt.xlim(0, .1)\n",
    "plt.ylim(0, 80)\n",
    "plt.ylabel(\"Demsity\")\n",
    "\n",
    "ax = plt.subplot(313)\n",
    "plt.hist(delta_samples, histtype=\"stepfilled\", bins=30, alpha=0.85, label=\"Posterior of delta\", color=\"#7A68A6\", \n",
    "        normed=True)\n",
    "\n",
    "plt.vlines(true_p_A - true_p_B ,0,60, linestyle=\"--\", label=\"true delta (unknown)\")\n",
    "plt.vlines(0, 0, 60, color=\"black\", alpha=0.2)\n",
    "plt.xlabel(\"Value\")\n",
    "plt.legend(loc=\"upper right\")"
   ]
  },
  {
   "cell_type": "code",
   "execution_count": 28,
   "metadata": {},
   "outputs": [
    {
     "name": "stdout",
     "output_type": "stream",
     "text": [
      "Pribability site A is WORSE than siteB : 0.01245\n",
      "Pribability site A is BETTER than siteB : 0.98755\n"
     ]
    }
   ],
   "source": [
    "print(\"Pribability site A is WORSE than siteB :\", (delta_samples < 0).mean())\n",
    "print(\"Pribability site A is BETTER than siteB :\", (delta_samples > 0).mean())"
   ]
  },
  {
   "cell_type": "code",
   "execution_count": 29,
   "metadata": {},
   "outputs": [
    {
     "data": {
      "text/plain": [
       "Text(0.5,1,'Probability mass ditributions of binomial random variables')"
      ]
     },
     "execution_count": 29,
     "metadata": {},
     "output_type": "execute_result"
    },
    {
     "data": {
      "image/png": "[encoded data removed]",
      "text/plain": [
       "<matplotlib.figure.Figure at 0x1a15493710>"
      ]
     },
     "metadata": {},
     "output_type": "display_data"
    }
   ],
   "source": [
    "figsize(12.5, 4)\n",
    "\n",
    "import scipy.stats as stats\n",
    "binomial = stats.binom\n",
    "\n",
    "parameters = [(10, .4), (10, .9)]\n",
    "colors=[\"#348ABD\", \"#A60628\"]\n",
    "\n",
    "for i in range(2):\n",
    "    N, p = parameters[i]\n",
    "    _x = np.arange(N + 1)\n",
    "    plt.bar(_x - 0.5, binomial.pmf(_x, N , p), color=colors[i], edgecolor=colors[i], alpha=0.6, linewidth=3,\n",
    "           label=\"$N$: {}, $p$: {}\".format(N, p))\n",
    "    \n",
    "plt.legend(loc=\"upper left\")\n",
    "plt.xlim(0, 10.5)\n",
    "plt.xlabel(\"$k$\")\n",
    "plt.ylabel(\"$P(X = k)$\")\n",
    "plt.title(\"Probability mass ditributions of binomial random variables\")"
   ]
  },
  {
   "cell_type": "code",
   "execution_count": 30,
   "metadata": {},
   "outputs": [
    {
     "name": "stdout",
     "output_type": "stream",
     "text": [
      "[False False  True False  True False False  True False  True False  True\n",
      "  True  True  True False  True False False False False False  True False\n",
      " False False False  True False False False False  True False  True False\n",
      " False False  True  True False False False  True  True False False  True\n",
      "  True False False False  True  True  True  True  True  True False  True\n",
      "  True  True  True False  True  True  True False False  True False False\n",
      " False  True  True  True  True False False  True  True  True  True False\n",
      "  True False False  True  True False False False  True  True False  True\n",
      " False  True False False]\n"
     ]
    }
   ],
   "source": [
    "# カンニングのモデリング\n",
    "\n",
    "N =100\n",
    "p = pm.Uniform(\"freq_cheating\",0,1) # カンニングの割合\n",
    "\n",
    "true_answers = pm.Bernoulli(\"truths\", p, size=N) # 真実\n",
    "\n",
    "first_coin_flips=pm.Bernoulli(\"first_flips\", 0.5, size=N)\n",
    "print(first_coin_flips.value)"
   ]
  },
  {
   "cell_type": "code",
   "execution_count": 31,
   "metadata": {
    "collapsed": true
   },
   "outputs": [],
   "source": [
    "second_coin_flips = pm.Bernoulli(\"second_flips\", 0.5, size=N)\n",
    "\n",
    "@pm.deterministic\n",
    "def observed_proportion(t_a=true_answers, fc=first_coin_flips, sc=second_coin_flips):\n",
    "    observed = fc*t_a+(1-fc) * sc\n",
    "    return observed.sum()/float(N)"
   ]
  },
  {
   "cell_type": "code",
   "execution_count": 32,
   "metadata": {},
   "outputs": [
    {
     "name": "stdout",
     "output_type": "stream",
     "text": [
      "0.68\n"
     ]
    }
   ],
   "source": [
    "print(observed_proportion.value)"
   ]
  },
  {
   "cell_type": "code",
   "execution_count": 33,
   "metadata": {},
   "outputs": [
    {
     "name": "stdout",
     "output_type": "stream",
     "text": [
      " [-----------------100%-----------------] 40000 of 40000 complete in 8.7 sec"
     ]
    }
   ],
   "source": [
    "X=35\n",
    "observations = pm.Binomial(\"obs\", N, observed_proportion, observed=True, value=X)\n",
    "model=pm.Model([p, true_answers, first_coin_flips, second_coin_flips, observed_proportion, observations])\n",
    "\n",
    "mcmc=pm.MCMC(model)\n",
    "mcmc.sample(40000, 15000)"
   ]
  },
  {
   "cell_type": "code",
   "execution_count": 34,
   "metadata": {},
   "outputs": [
    {
     "data": {
      "text/plain": [
       "<matplotlib.legend.Legend at 0x1a152d7438>"
      ]
     },
     "execution_count": 34,
     "metadata": {},
     "output_type": "execute_result"
    },
    {
     "data": {
      "image/png": "[encoded data removed]",
      "text/plain": [
       "<matplotlib.figure.Figure at 0x1a15376550>"
      ]
     },
     "metadata": {},
     "output_type": "display_data"
    }
   ],
   "source": [
    "figsize(12.5, 3)\n",
    "\n",
    "p_trace=mcmc.trace(\"freq_cheating\")[:]\n",
    "plt.hist(p_trace, histtype=\"stepfilled\", normed=True, alpha=0.85, bins=30, color=\"#348ABD\",\n",
    "        label=\"posterior distribution\")\n",
    "plt.vlines([.05, .35],[0,0],[5,5,], alpha=0.3)\n",
    "\n",
    "plt.xlim(0,1)\n",
    "plt.xlabel(\"Value of $p$\")\n",
    "plt.ylabel(\"Density\")\n",
    "plt.title(\"Posterior distribution of parameter $p$\")\n",
    "plt.legend()"
   ]
  },
  {
   "cell_type": "code",
   "execution_count": 35,
   "metadata": {
    "collapsed": true
   },
   "outputs": [],
   "source": [
    "# もうひとつのモデリング\n",
    "p=pm.Uniform(\"freq_cheating\",0,1)\n",
    "\n",
    "@pm.deterministic\n",
    "def p_skewed(p=p):\n",
    "    return 0.5 * p + 0.25\n",
    "\n",
    "yes_response = pm.Binomial(\"number_cheaters\", 100, p_skewed, value=35, observed=True)\n"
   ]
  },
  {
   "cell_type": "code",
   "execution_count": 36,
   "metadata": {},
   "outputs": [
    {
     "name": "stdout",
     "output_type": "stream",
     "text": [
      " [-----------------100%-----------------] 25000 of 25000 complete in 1.0 sec"
     ]
    }
   ],
   "source": [
    "model=pm.Model([yes_response, p_skewed, p])\n",
    "\n",
    "mcmc = pm.MCMC(model)\n",
    "mcmc.sample(25000, 2500)\n"
   ]
  },
  {
   "cell_type": "code",
   "execution_count": 37,
   "metadata": {},
   "outputs": [
    {
     "data": {
      "text/plain": [
       "<pymc.distributions.new_dist_class.<locals>.new_class 'freq_cheating' at 0x1a15376cf8>"
      ]
     },
     "execution_count": 37,
     "metadata": {},
     "output_type": "execute_result"
    },
    {
     "data": {
      "image/png": "[encoded data removed]",
      "text/plain": [
       "<matplotlib.figure.Figure at 0x1a15a4c400>"
      ]
     },
     "metadata": {},
     "output_type": "display_data"
    }
   ],
   "source": [
    "figsize(12.5, 3)\n",
    "\n",
    "p_trace=mcmc.trace(\"freq_cheating\")[:]\n",
    "plt.hist(p_trace, histtype=\"stepfilled\", normed=True, alpha=0.85, bins=30, color=\"#348ABD\",\n",
    "        label=\"posterior distribution\")\n",
    "plt.vlines([.05, .35], [0,0], [5,5], alpha=0.2)\n",
    "\n",
    "plt.xlim(0,1)\n",
    "plt.xlabel(\"Value of $p$\")\n",
    "plt.ylabel(\"Density\")\n",
    "p"
   ]
  },
  {
   "cell_type": "code",
   "execution_count": null,
   "metadata": {
    "collapsed": true
   },
   "outputs": [],
   "source": []
  },
  {
   "cell_type": "code",
   "execution_count": null,
   "metadata": {
    "collapsed": true
   },
   "outputs": [],
   "source": []
  },
  {
   "cell_type": "code",
   "execution_count": null,
   "metadata": {
    "collapsed": true
   },
   "outputs": [],
   "source": []
  },
  {
   "cell_type": "code",
   "execution_count": null,
   "metadata": {
    "collapsed": true
   },
   "outputs": [],
   "source": []
  },
  {
   "cell_type": "code",
   "execution_count": null,
   "metadata": {
    "collapsed": true
   },
   "outputs": [],
   "source": []
  },
  {
   "cell_type": "code",
   "execution_count": null,
   "metadata": {
    "collapsed": true
   },
   "outputs": [],
   "source": []
  },
  {
   "cell_type": "code",
   "execution_count": null,
   "metadata": {
    "collapsed": true
   },
   "outputs": [],
   "source": []
  }
 ],
 "metadata": {
  "kernelspec": {
   "display_name": "Python 3",
   "language": "python",
   "name": "python3"
  },
  "language_info": {
   "codemirror_mode": {
    "name": "ipython",
    "version": 3
   },
   "file_extension": ".py",
   "mimetype": "text/x-python",
   "name": "python",
   "nbconvert_exporter": "python",
   "pygments_lexer": "ipython3",
   "version": "3.6.3"
  }
 },
 "nbformat": 4,
 "nbformat_minor": 2
}
