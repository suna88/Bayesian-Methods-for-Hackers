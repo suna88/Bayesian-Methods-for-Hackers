{
 "cells": [
  {
   "cell_type": "code",
   "execution_count": 2,
   "metadata": {},
   "outputs": [
    {
     "name": "stdout",
     "output_type": "stream",
     "text": [
      "0.0066\n"
     ]
    }
   ],
   "source": [
    "import numpy as np\n",
    "import pymc as pm\n",
    "N =10000\n",
    "print(np.mean([pm.rexponential(0.5) > 10 for i in range(N) ] ) )"
   ]
  },
  {
   "cell_type": "code",
   "execution_count": 1,
   "metadata": {},
   "outputs": [
    {
     "name": "stdout",
     "output_type": "stream",
     "text": [
      "Collecting praw==3.6.0\n",
      "  Downloading https://files.pythonhosted.org/packages/f4/e7/fad173c445d24881dfc0704084259f7e8a2f31416a64cb5a5a6381e30fca/praw-3.6.0-py2.py3-none-any.whl (74kB)\n",
      "\u001b[K    100% |████████████████████████████████| 81kB 622kB/s ta 0:00:011\n",
      "\u001b[?25hRequirement already satisfied: update-checker<1.0,>=0.12 in /Users/yukisunami/.pyenv/versions/anaconda3-5.0.1/lib/python3.6/site-packages (from praw==3.6.0)\n",
      "Collecting decorator<4.1,>=4.0.9 (from praw==3.6.0)\n",
      "  Downloading https://files.pythonhosted.org/packages/00/cc/dd79ea98a0ff5a01d714c37eddd99cd0a71557113f1511921d1ef9a083b8/decorator-4.0.11-py2.py3-none-any.whl\n",
      "Requirement already satisfied: requests>=2.3.0 in /Users/yukisunami/.pyenv/versions/anaconda3-5.0.1/lib/python3.6/site-packages (from praw==3.6.0)\n",
      "Collecting six==1.10 (from praw==3.6.0)\n",
      "  Downloading https://files.pythonhosted.org/packages/c8/0a/b6723e1bc4c516cb687841499455a8505b44607ab535be01091c0f24f079/six-1.10.0-py2.py3-none-any.whl\n",
      "Requirement already satisfied: chardet<3.1.0,>=3.0.2 in /Users/yukisunami/.pyenv/versions/anaconda3-5.0.1/lib/python3.6/site-packages (from requests>=2.3.0->praw==3.6.0)\n",
      "Requirement already satisfied: idna<2.7,>=2.5 in /Users/yukisunami/.pyenv/versions/anaconda3-5.0.1/lib/python3.6/site-packages (from requests>=2.3.0->praw==3.6.0)\n",
      "Requirement already satisfied: urllib3<1.23,>=1.21.1 in /Users/yukisunami/.pyenv/versions/anaconda3-5.0.1/lib/python3.6/site-packages (from requests>=2.3.0->praw==3.6.0)\n",
      "Requirement already satisfied: certifi>=2017.4.17 in /Users/yukisunami/.pyenv/versions/anaconda3-5.0.1/lib/python3.6/site-packages (from requests>=2.3.0->praw==3.6.0)\n",
      "Installing collected packages: decorator, six, praw\n",
      "  Found existing installation: decorator 4.1.2\n",
      "    Uninstalling decorator-4.1.2:\n",
      "      Successfully uninstalled decorator-4.1.2\n",
      "  Found existing installation: six 1.11.0\n",
      "    Uninstalling six-1.11.0:\n",
      "      Successfully uninstalled six-1.11.0\n",
      "Successfully installed decorator-4.0.11 praw-3.6.0 six-1.10.0\n",
      "\u001b[33mYou are using pip version 9.0.1, however version 18.1 is available.\n",
      "You should consider upgrading via the 'pip install --upgrade pip' command.\u001b[0m\n"
     ]
    }
   ],
   "source": [
    "from os import makedirs\n",
    "makedirs(\"data\", exist_ok = True)\n",
    "\n",
    "from urllib.request import urlretrieve\n",
    "urlretrieve(\"https://git.io/vXtX2\", \"top_showerthoughts_submission.py\")\n",
    "\n",
    "!pip install praw==3.6.0\n",
    "import praw "
   ]
  },
  {
   "cell_type": "code",
   "execution_count": 27,
   "metadata": {},
   "outputs": [
    {
     "name": "stdout",
     "output_type": "stream",
     "text": [
      "Title of submission\n",
      "The \"Don't text and drive\" signs on the highway are probably not seen often by their target demographic.\n"
     ]
    }
   ],
   "source": [
    "%run top_showerthoughts_submission.py 2\n",
    "\n",
    "print(\"Title of submission\")\n",
    "print(top_post)"
   ]
  },
  {
   "cell_type": "code",
   "execution_count": 4,
   "metadata": {},
   "outputs": [
    {
     "name": "stdout",
     "output_type": "stream",
     "text": [
      "Some Comments (out of 1 total) \n",
      " ------------------\n",
      "\"The modern version of the boy who cried wolf is \"The driver in front of you who kept their turn signal on for four blocks before suddenly turning without actual warning\".\"\n",
      "upvotes/downvotes:  [53  8] \n",
      "\n",
      "\"The modern version of the boy who cried wolf is \"The driver in front of you who kept their turn signal on for four blocks before suddenly turning without actual warning\".\"\n",
      "upvotes/downvotes:  [53  8] \n",
      "\n",
      "\"The modern version of the boy who cried wolf is \"The driver in front of you who kept their turn signal on for four blocks before suddenly turning without actual warning\".\"\n",
      "upvotes/downvotes:  [53  8] \n",
      "\n",
      "\"The modern version of the boy who cried wolf is \"The driver in front of you who kept their turn signal on for four blocks before suddenly turning without actual warning\".\"\n",
      "upvotes/downvotes:  [53  8] \n",
      "\n"
     ]
    }
   ],
   "source": [
    "# contents: すべてのコメントの文字列のarray\n",
    "# votes: 各コメントに対するupvoteとdownvoteの20 Numpy array\n",
    "\n",
    "n_comments = len(contents)\n",
    "comments = np.random.randint(n_comments, size=4)\n",
    "print(\"Some Comments (out of %d total) \\n ------------------\" % n_comments) # いくつかのコメント\n",
    "\n",
    "for i in comments:\n",
    "    print('\"' + contents[i] + '\"')\n",
    "    print(\"upvotes/downvotes: \", votes[i, :], \"\\n\")\n"
   ]
  },
  {
   "cell_type": "code",
   "execution_count": 15,
   "metadata": {},
   "outputs": [
    {
     "data": {
      "text/plain": [
       "['The modern version of the boy who cried wolf is \"The driver in front of you who kept their turn signal on for four blocks before suddenly turning without actual warning\".']"
      ]
     },
     "execution_count": 15,
     "metadata": {},
     "output_type": "execute_result"
    }
   ],
   "source": [
    "contents"
   ]
  },
  {
   "cell_type": "code",
   "execution_count": 26,
   "metadata": {},
   "outputs": [
    {
     "name": "stdout",
     "output_type": "stream",
     "text": [
      "0.061687960282815826\n",
      "0.8522098957772662\n"
     ]
    }
   ],
   "source": [
    "# 練習問題\n",
    "import scipy.stats as stats\n",
    "from numpy import cos\n",
    "exp = stats.expon(scale=4)\n",
    "N = int(1e5)\n",
    "X = exp.rvs(N)\n",
    "\n",
    "print(cos(X).mean())\n",
    "print((cos(X[X < 1])).mean() )"
   ]
  },
  {
   "cell_type": "code",
   "execution_count": 24,
   "metadata": {},
   "outputs": [
    {
     "data": {
      "text/plain": [
       "array([1.98956781, 2.06420398, 5.73938832, ..., 6.34514501, 0.60326314,\n",
       "       9.62420178])"
      ]
     },
     "execution_count": 24,
     "metadata": {},
     "output_type": "execute_result"
    }
   ],
   "source": []
  },
  {
   "cell_type": "code",
   "execution_count": null,
   "metadata": {
    "collapsed": true
   },
   "outputs": [],
   "source": []
  }
 ],
 "metadata": {
  "kernelspec": {
   "display_name": "Python 3",
   "language": "python",
   "name": "python3"
  },
  "language_info": {
   "codemirror_mode": {
    "name": "ipython",
    "version": 3
   },
   "file_extension": ".py",
   "mimetype": "text/x-python",
   "name": "python",
   "nbconvert_exporter": "python",
   "pygments_lexer": "ipython3",
   "version": "3.6.3"
  }
 },
 "nbformat": 4,
 "nbformat_minor": 2
}
